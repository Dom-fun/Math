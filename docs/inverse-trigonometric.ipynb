{
 "cells": [
  {
   "cell_type": "markdown",
   "metadata": {},
   "source": [
    "# 反三角函数"
   ]
  },
  {
   "cell_type": "markdown",
   "metadata": {},
   "source": [
    "## 简介"
   ]
  },
  {
   "cell_type": "markdown",
   "metadata": {},
   "source": [
    "反三角函数是一组函数，它们是[三角函数](https://math.haozi.me/trigonometric.html)的[反函数](https://math.haozi.me/inverse.html)。"
   ]
  },
  {
   "cell_type": "markdown",
   "metadata": {},
   "source": [
    "## 定义"
   ]
  },
  {
   "cell_type": "markdown",
   "metadata": {},
   "source": [
    "反三角函数有时候会记为 $\\sin^{-1}$， $\\cos^{-1}$， $\\tan^{-1}$，但这种符号有时会与 $\\sin^{-1} x$ 和$\\frac {1}{\\sin x}$ 倒数运算混淆，需要注意。\n",
    "\n",
    "反三角函数也可以记为 $\\arcsin$， $\\arccos$， $\\arctan$ 在 JS 中和其他编程语言里，通常写为 asin， acos， atan..."
   ]
  },
  {
   "cell_type": "markdown",
   "metadata": {},
   "source": [
    "## 主值"
   ]
  },
  {
   "cell_type": "markdown",
   "metadata": {},
   "source": [
    "之前讲到反函数，我们知道严格定义的反函数要和原函数一一映射。但我们知道三角函数具有周期性。在数学和程序求值的时候，我们只返回$[0,2\\pi]$中的值做为其主值。"
   ]
  },
  {
   "cell_type": "markdown",
   "metadata": {},
   "source": [
    "|名称 | 常用符号 | 定义域 | 值域 |\n",
    "|----|---------|-------|----|\n",
    "| 反正弦 | $y=\\arcsin x$ | $[-1,1]$     | $[-\\frac{\\pi}{2},\\frac{\\pi}{2}]$ |\n",
    "| 反余弦 | $y=\\arccos x$ | $[-1,1]$     | $[0,\\pi]$ |\n",
    "| 反正切 | $y=\\arctan x$ | $\\mathbb{R}$ | $(-\\frac{\\pi}{2},\\frac{\\pi}{2})$ |"
   ]
  },
  {
   "cell_type": "markdown",
   "metadata": {},
   "source": [
    "## atan 与 atan2"
   ]
  },
  {
   "cell_type": "code",
   "execution_count": null,
   "metadata": {},
   "outputs": [],
   "source": []
  },
  {
   "cell_type": "markdown",
   "metadata": {},
   "source": [
    "```javascript\n",
    "```"
   ]
  },
  {
   "cell_type": "markdown",
   "metadata": {},
   "source": [
    "## 应用"
   ]
  },
  {
   "cell_type": "markdown",
   "metadata": {},
   "source": []
  }
 ],
 "metadata": {
  "kernelspec": {
   "display_name": "Python 3",
   "language": "python",
   "name": "python3"
  },
  "language_info": {
   "codemirror_mode": {
    "name": "ipython",
    "version": 3
   },
   "file_extension": ".py",
   "mimetype": "text/x-python",
   "name": "python",
   "nbconvert_exporter": "python",
   "pygments_lexer": "ipython3",
   "version": "3.7.4"
  }
 },
 "nbformat": 4,
 "nbformat_minor": 4
}
