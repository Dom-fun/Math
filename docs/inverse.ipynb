{
 "cells": [
  {
   "cell_type": "markdown",
   "metadata": {},
   "source": [
    "# 反函数"
   ]
  },
  {
   "cell_type": "markdown",
   "metadata": {},
   "source": [
    "## 简介"
   ]
  },
  {
   "cell_type": "markdown",
   "metadata": {},
   "source": [
    "在数学里，反函数为对一个定函数做逆运算的函数。"
   ]
  },
  {
   "cell_type": "markdown",
   "metadata": {},
   "source": [
    "## 定义"
   ]
  },
  {
   "cell_type": "markdown",
   "metadata": {},
   "source": [
    "精确定义为，设$f$为一函数，其定义域为$X$，值域为$Y$。如果存在一函数$g$，其定义域和值域分别为 $Y, X$，并对每一个$x \\in X$有： $g(f(x))=x$ ，则称$g$为$f$的反函数，记之为$f^{-1}$，读作 $f$ inverse 或 $f$ 的反函数。注意上标“−1”指的并不是[负数次幂](https://math.haozi.me/pow.html)，-1 次幂是倒数运算。反函数不要念成 $f$ 的负 1 次方。\n",
    "\n",
    "若一函数有反函数，此函数便称为可逆的。"
   ]
  },
  {
   "cell_type": "markdown",
   "metadata": {},
   "source": [
    "## 存在性"
   ]
  },
  {
   "cell_type": "markdown",
   "metadata": {},
   "source": [
    "如果一函数$f$有反函数，$f$必须是一双射函数，即：\n",
    "\n",
    "* 单射：陪域上的每一元素都只被$f$映射至多一次(不然其反函数必将元素映射到超过一个的值上去)\n",
    "* 满射：陪域上的每一元素都必须被$f$映射到(不然将没有办法对某些元素定义$f$的反函数)\n",
    "\n",
    "![](https://img.alicdn.com/tfs/TB1a9KdnCslXu8jSZFuXXXg7FXa-336-515.png)\n",
    "\n",
    "可能有人连陪域是啥也忘了，[传送门](https://baike.baidu.com/item/%E9%99%AA%E5%9F%9F/942697)"
   ]
  },
  {
   "cell_type": "markdown",
   "metadata": {},
   "source": [
    "## 性质"
   ]
  },
  {
   "cell_type": "markdown",
   "metadata": {},
   "source": [
    "* 原函数的定义域、值域分别是反函数的值域、定义域\n",
    "* 原函数与其反函数的函数图像关于函数$y=x$的图像对称\n",
    "* 严格单调函数一定存在反函数，且反函数与原函数的单调性一致。\n",
    "* 拥有反函数的函数不一定是严格单调函数，例如$y=x^{-3}$"
   ]
  },
  {
   "cell_type": "markdown",
   "metadata": {},
   "source": [
    "## 反函数的求法"
   ]
  },
  {
   "cell_type": "markdown",
   "metadata": {},
   "source": [
    "1. 将原函数 $y=f(x)$ 改写为 $x=g(y)$ 形式\n",
    "2. 将 x 与 y 互换\n",
    "\n",
    "如 $y = 2x + 5$\n",
    "移项后改为 \n",
    "\n",
    "$x = \\frac{y-5}{2}$\n",
    "\n",
    "再替换$x$和$y$\n",
    "\n",
    "$y = \\frac{x-5}{2}$\n",
    "\n",
    "所以 $y^{-1} = \\frac{x-5}{2}$\n"
   ]
  },
  {
   "cell_type": "markdown",
   "metadata": {},
   "source": [
    "## 用途"
   ]
  },
  {
   "cell_type": "markdown",
   "metadata": {},
   "source": [
    "关于反函数的应用，欢迎在这里[留言](https://github.com/easy-math/Math/issues/22)讨论"
   ]
  }
 ],
 "metadata": {
  "kernelspec": {
   "display_name": "Python 3",
   "language": "python",
   "name": "python3"
  },
  "language_info": {
   "codemirror_mode": {
    "name": "ipython",
    "version": 3
   },
   "file_extension": ".py",
   "mimetype": "text/x-python",
   "name": "python",
   "nbconvert_exporter": "python",
   "pygments_lexer": "ipython3",
   "version": "3.7.4"
  }
 },
 "nbformat": 4,
 "nbformat_minor": 4
}
