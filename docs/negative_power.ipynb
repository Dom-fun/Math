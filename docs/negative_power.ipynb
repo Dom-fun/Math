{
 "cells": [
  {
   "cell_type": "markdown",
   "metadata": {},
   "source": [
    "## 幂\n",
    "幂的定义很简单，就是一个数多次相乘，比如 $a^2 = a*a$，$a^3 = a*a*a$，以此类推，$a^n = a*a*a...a$ (一共n个a相乘)\n",
    "\n",
    "## 幂的性质\n",
    "幂运算不符合交换律和结合律，也就是说\n",
    "\n",
    "$a^n != n^a$\n",
    "\n",
    "$a^{m+n} != a^m +a^n$\n",
    "\n",
    "\n",
    "但幂运算有自己的规律\n",
    "\n",
    "### 同底数幂相乘\n",
    "\n",
    "$$a^m * a^n = a^{m+n}$$\n",
    "\n",
    "比如: \n",
    "$2^3 * 2^4 = 8 * 16 = 128$\n",
    "\n",
    "同时:\n",
    "$2^{3+4} = 2^7 = 128$\n",
    "\n",
    "两者相等\n",
    "\n",
    "### 同底数幂相除\n",
    "\n",
    "$a^m / a^n = a^{m - n}$\n",
    "\n",
    "比如: \n",
    "$2^10 / 2^8 = 1024 / 256 = 4$\n",
    "\n",
    "同时\n",
    "$2^{10 - 8} = 2^2 = 4$\n",
    "\n",
    "两者相等\n",
    "\n",
    "## 负次幂\n",
    "以上都是基于幂是正整数做出的定义，但如果推广一下，认可幂也可以复数，就能从同底数幂相除等到一个规律：\n",
    "$$a^{-x} = 1 / a^x$$\n",
    "\n",
    "这是因为:\n",
    "\n",
    "如果我们假设m, n都是正整数, 但m < n，按照同底数幂相除的规则：\n",
    "$a^m / a^n = a^{m - n}$\n",
    "\n",
    "同样地：\n",
    "$a^n / a^m = a^{n - m}$\n",
    "\n",
    "我们知道 $a^n / a^m$ 一定是 $a^m / a^n$ 的倒数，所以 $a^{m - n} = 1 / a^{n - m}$\n",
    "\n",
    "重新设定一个符号$x = n - m$，于是 $-x = m - n$，也就得出了 \n",
    "$a^{-x} = 1 / a^x $\n",
    "\n",
    "\n",
    "这样一来，一个负次幂就等于对应正数次幂的倒数了，例如：\n",
    "$2^{-3} = 1 / 2^3 = 1/8 = 0.125$\n",
    "\n"
   ]
  }
 ],
 "metadata": {
  "kernelspec": {
   "display_name": "Python 3",
   "language": "python",
   "name": "python3"
  },
  "language_info": {
   "codemirror_mode": {
    "name": "ipython",
    "version": 3
   },
   "file_extension": ".py",
   "mimetype": "text/x-python",
   "name": "python",
   "nbconvert_exporter": "python",
   "pygments_lexer": "ipython3",
   "version": "3.7.4"
  }
 },
 "nbformat": 4,
 "nbformat_minor": 4
}
