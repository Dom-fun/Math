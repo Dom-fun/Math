{
 "cells": [
  {
   "cell_type": "markdown",
   "metadata": {},
   "source": [
    "# 数值修约"
   ]
  },
  {
   "cell_type": "markdown",
   "metadata": {},
   "source": [
    "## 简介"
   ]
  },
  {
   "cell_type": "markdown",
   "metadata": {},
   "source": [
    "Math.round 很多中文文档说是取四舍五入的整数。但这个说法是不正确的。我们分别看一下 Python 和 JS 里的 round 的函数返回："
   ]
  },
  {
   "cell_type": "markdown",
   "metadata": {},
   "source": [
    "## Python"
   ]
  },
  {
   "cell_type": "markdown",
   "metadata": {},
   "source": [
    "```python\n",
    "print(round(20.5)) # 20\n",
    "print(round(20.51)) # 21\n",
    "print(round(-20.5)) # -20\n",
    "print(round(-20.51)) # -21\n",
    "```"
   ]
  },
  {
   "cell_type": "markdown",
   "metadata": {},
   "source": [
    "## JS"
   ]
  },
  {
   "cell_type": "markdown",
   "metadata": {},
   "source": [
    "```javascript\n",
    "console.log(Math.round(20.5)) // 21\n",
    "console.log(Math.round(20.51)) // 21\n",
    "console.log(Math.round(-20.5)) // -20\n",
    "console.log(Math.round(-20.51)) // -21\n",
    "```\n"
   ]
  },
  {
   "cell_type": "markdown",
   "metadata": {},
   "source": [
    "是不是感觉三观被颠覆？两个语言不一样，我们可以理解各自定义就不一样。但是为什么同样是 JS 里，`round(20.51) = 21` ,`round(-20.51) = -21`, `round(-20.5)` 又是 `-20` 呢？ "
   ]
  },
  {
   "cell_type": "markdown",
   "metadata": {},
   "source": [
    "我们不说 Python，只说 JS 里的定义，我们去翻 [tc39的标准](https://tc39.es/ecma262/#sec-math.round) :"
   ]
  },
  {
   "cell_type": "markdown",
   "metadata": {},
   "source": [
    "> Returns the Number value that is closest to x and is integral. If two integral Numbers are equally close to x, then the result is the Number value that is closer to +∞. If x is already integral, the result is x.\n",
    "When the Math.round method is called with argument x, the following steps are taken:\n",
    "> 1. Let n be ? ToNumber(x).\n",
    "> 2. If n is NaN, +∞𝔽, -∞𝔽, or an integral Number, return n.\n",
    "> 3. If n < 0.5𝔽 and n > +0𝔽, return +0𝔽.\n",
    "> 4. If n < +0𝔽 and n ≥ -0.5𝔽, return -0𝔽.\n",
    "> 5. Return the integral Number closest to n, preferring the Number closer to +∞ in the case of a tie.\n"
   ]
  },
  {
   "cell_type": "markdown",
   "metadata": {},
   "source": [
    "我翻译一下：返回最接近$x$且为整数的数值。如果两个整数相等地接近x，则结果是更接近$+\\infty$的数值。如果$x$已经是整数，结果是$x$。\n",
    "当 `Math.round` 方法传入一个参数 $x$, 将执行以下步骤：\n",
    "1. 将 $x$ 隐式类型转化为数字 $n$\n",
    "2. 如果 $n$ 为 NaN / Infinity / -Infinity， 或者是整数，返回 $n$\n",
    "3. 如果 $+0 < n < 0.5$，返回 +0\n",
    "4. 如果 $-0.5 \\leq n < +0$, 返回 -0\n",
    "5. 返回最接近 n 的整数，如果和两个整数距离相等，返回更接近 $+\\infty$ 的那个\n",
    "\n",
    "综上，所以在自然数下，Math.round 的结果与我们理解的四舍五入一致，但在负数上要小心。\n",
    "关于为什么会有 +0 和 -0，又是要讲一堆，可以参看月影大大的[这篇文章](https://github.com/akira-cn/FE_You_dont_know/issues/10)。另外，还有 BigInt 里的 0n，但没有 -0n，这三个 0 在逻辑判断的时候都是 false。"
   ]
  },
  {
   "cell_type": "markdown",
   "metadata": {},
   "source": [
    "## 关于四舍五入"
   ]
  },
  {
   "cell_type": "markdown",
   "metadata": {},
   "source": [
    "我们学校所学习的四舍五入，其实并不是 IEEE754 所使用的标准修约方式。这使得我们在计算一些值的时候有惊喜。IEEE754 使用的修约标准叫 [Round half to even](https://en.wikipedia.org/wiki/Rounding)，也称为高斯舍入法、银行家舍入法或四舍六入五成双法。这比四舍五入在累计误差时会更小。\n",
    "\n",
    "因为四舍五入，舍入的数为0时，舍后就是这个数本身，而0-9共9个数，5处于中间，如果5-9都进一，进一的概率是九分之五，而1-4舍去，概率是九分之四，在累加时会使整体误差偏大。\n",
    "\n",
    "四舍五入只在中文圈用得多，甚至被老外称为 Chinese Rounding。西方更多用 Bankers Rounding。\n"
   ]
  },
  {
   "cell_type": "markdown",
   "metadata": {},
   "source": [
    "## JS 实现"
   ]
  },
  {
   "cell_type": "markdown",
   "metadata": {},
   "source": [
    "有兴趣的同学可以自己尝试一下，round 还好，toFixed 更复杂。欢迎[留言](https://github.com/easy-math/Math/issues/15)"
   ]
  }
 ],
 "metadata": {
  "kernelspec": {
   "display_name": "Python 3",
   "language": "python",
   "name": "python3"
  },
  "language_info": {
   "codemirror_mode": {
    "name": "ipython",
    "version": 3
   },
   "file_extension": ".py",
   "mimetype": "text/x-python",
   "name": "python",
   "nbconvert_exporter": "python",
   "pygments_lexer": "ipython3",
   "version": "3.7.4"
  }
 },
 "nbformat": 4,
 "nbformat_minor": 4
}
