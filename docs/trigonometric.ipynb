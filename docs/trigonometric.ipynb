{
 "cells": [
  {
   "cell_type": "markdown",
   "metadata": {},
   "source": [
    "# 三角函数"
   ]
  },
  {
   "cell_type": "markdown",
   "metadata": {},
   "source": [
    "## 简介"
   ]
  },
  {
   "cell_type": "markdown",
   "metadata": {},
   "source": [
    "三角函数是一组关于角度的函数，几何上，$(0, 90)$度的三角函数，可以表示为直接三角形的边长关系。扩展到更大的角度，也可以等价地用单位圆上有关的各种线段的长度来定义。三角函数在研究三角形和圆等几何形状的性质时有重要作用，也是研究振动、波、天体运动以及各种周期性现象的基础数学工具。在数学分析中，三角函数也被定义为无穷级数或特定微分方程的解，允许它们的取值扩展到任意实数值，甚至是复数值。\n",
    "\n",
    "常见的三角函数包括正弦($\\sin$) 余弦($\\cos$) 及正切($\\tan$)，其余的还有如余切($\\cot$)、正割($\\sec$)、余割($\\csc$)、正矢(versin)、半正矢(haversin)等其他的三角函数。其实最重要的只需记住正弦和余弦，其它函数都可以通过这两个函数导出。正切由于直角坐标系中只与 $x, y$ 水平垂直线段有关，所以会单拎出来。"
   ]
  },
  {
   "cell_type": "markdown",
   "metadata": {},
   "source": [
    "## 定义"
   ]
  },
  {
   "cell_type": "markdown",
   "metadata": {},
   "source": [
    "### 几何定义\n",
    "\n",
    "直角三角形中的定义：\n",
    "\n",
    "![](https://img.alicdn.com/tfs/TB17A85oMgP7K4jSZFqXXamhVXa-192-272.png)\n",
    "\n",
    "正弦 $\\sin\\theta = \\frac{a}{h}$\n",
    "\n",
    "余弦 $\\cos\\theta = \\frac{b}{h}$\n",
    "\n",
    "正切 $\\tan\\theta = \\frac{a}{b} = \\frac{\\sin\\theta}{\\cos\\theta}$\n",
    "\n",
    "余切 $\\cot\\theta = \\frac{b}{a} = \\frac{1}{\\tan\\theta} = \\frac{\\cos\\theta}{\\sin\\theta}$\n",
    "\n",
    "正割 $\\sec\\theta = \\frac{h}{b} = \\frac{1}{\\cos\\theta}$\n",
    "\n",
    "余割 $\\csc\\theta = \\frac{h}{a} = \\frac{1}{\\sin\\theta}$"
   ]
  },
  {
   "cell_type": "markdown",
   "metadata": {},
   "source": [
    "## 勾股定理及推论"
   ]
  },
  {
   "cell_type": "markdown",
   "metadata": {},
   "source": [
    "$c^2 = a^2 + b^2$\n",
    "\n",
    "勾股定理是所有人都非常熟悉的定理，其实也是整个初高中阶段极少有的以人名(毕达哥拉斯)命名的定理，足见其重要性。勾股定理的证明方法很多，这里不展开。勾股定理有 400 多种证明方法，有兴趣的可以看看李永乐老师的[视频](https://www.ixigua.com/6840732440282006029)。需要注意的是我们用到的很多推论本身来自勾股定理，要避免循环论证。\n",
    "\n",
    "(P.S. 多提一嘴，目前没并没有可靠的历史记录了中国人证明了勾股定理，其实古代很多文明都发现了一些勾股数，但可考的给出严格逻辑证明的第一人是古希腊的毕达哥拉斯，其弟子还因此发现了无理数$\\sqrt{2}$。即使不很可靠的《周髀算经》成书年代也比毕达哥拉斯晚 700-800 年。)\n",
    "\n",
    "根据勾股定义，我们可以推导出，有兴趣的朋友可以[留言](https://github.com/easy-math/Math/issues/20) 证明一下这个推论。\n",
    "\n",
    "$\\sin^2\\! x + \\cos^2\\! x = 1$\n",
    "\n",
    "通过此公式，我们可以用 $\\sin x$ 来计算 $\\cos x$"
   ]
  },
  {
   "cell_type": "markdown",
   "metadata": {},
   "source": [
    "## 常见三角函数的值域、周期与图象"
   ]
  },
  {
   "cell_type": "markdown",
   "metadata": {},
   "source": [
    "### 正弦\n",
    "\n",
    "它的定义域是整个实数集，值域是$[-1,1]$。它是周期函数，其最小正周期为$2\\pi$。在自变量为$\\frac {(4n+1)\\pi}{2}$（$n$为整数）时，该函数有极大值1；在自变量为$\\frac {(4n+3)\\pi }{2}$时，该函数有极小值-1。正弦函数是奇函数，其图像关于原点对称。\n",
    "\n",
    "![sin](https://img.alicdn.com/tfs/TB16D4G1VT7gK0jSZFpXXaTkpXa-1122-765.svg)\n",
    "\n",
    "### 余弦\n",
    "\n",
    "它的定义域是整个实数集，值域是$[-1,1]$。它是周期函数，其最小正周期为$2\\pi$ 。在自变量为$2n\\pi$ （$n$为整数）时，该函数有极大值1；在自变量为$(2n+1)\\pi$时，该函数有极小值-1。余弦函数是偶函数，其图像关于y轴对称。\n",
    "\n",
    "![cos](https://img.alicdn.com/tfs/TB1JnxT11L2gK0jSZFmXXc7iXXa-1120-762.svg)\n",
    "\n",
    "### 正切\n",
    "\n",
    "它的定义域是$\\{x|x\\neq k\\pi +{\\frac {\\pi }{2}},k\\in Z\\}$，值域是整个实数集。渐近线为它是周期函数，其最小正周期为$\\pi$ 弦函数是奇函数，其图像关于原点对称。\n",
    "\n",
    "![cos](https://img.alicdn.com/tfs/TB12E01m0Tfau8jSZFwXXX1mVXa-658-620.svg)\n",
    "\n"
   ]
  },
  {
   "cell_type": "markdown",
   "metadata": {},
   "source": [
    "## 数学求值"
   ]
  },
  {
   "cell_type": "markdown",
   "metadata": {},
   "source": [
    "中学里，我们学了很多和三角函数有关的公式，如和差角公式、倍角公式、半角公式、和差化积公式、万能公式等。然后将 0 30 45 60 和 90 度几个特殊角扩展到更多的特殊角，但并没有给出计算任意角三角函数的方法。公式太多，不放出来了，[传送门](https://math.haozi.me/trigonometric-formula.html)。笔者认为，这些公式除了考试增加算术技巧外，并没有太多的用处。"
   ]
  },
  {
   "cell_type": "markdown",
   "metadata": {},
   "source": [
    "## 通用编程实现"
   ]
  },
  {
   "cell_type": "markdown",
   "metadata": {},
   "source": [
    "我们其实只要实现 $\\sin(x)$，其他三角函数都可以简单通过公式算出来。但如果用计算机从头实现一 sin 函数，还是有一定难度的。首先要借助$\\sin x$ 的级数定义推导：\n",
    "\n",
    "$\\displaystyle{\\sin x = \\sum_{n=0}^\\infty \\frac{(-1)^nx^{2n+1}}{(2n+1)!}}$\n",
    "\n",
    "\n",
    "这个式子是无法直接编程的，因为无穷项，只能通过泰勒展开近似求前 N 项和，计算有限步的的近似值。\n",
    "\n",
    "$\\sin x= x - \\frac{x^3}{3!} + \\frac{x^5}{5!} - \\frac{x^7}{7!} + \\cdots$\n",
    "\n",
    "另一个，根据欧拉公式 $e^{ix} = \\cos x+i\\sin x$  变形式\n",
    "\n",
    "$\\sin x = \\frac{e^{ix} - e^{-ix}}{2i}$\n",
    "\n",
    "计算，这个需要你的编程语言支持复数，比如 Python，优点是复杂度 O(1)"
   ]
  },
  {
   "cell_type": "markdown",
   "metadata": {},
   "source": [
    "### JS 实现"
   ]
  },
  {
   "cell_type": "markdown",
   "metadata": {},
   "source": [
    "```javascript\n",
    "// 计算前 10 项展开式\n",
    "function sin (x) {\n",
    "  const max = 10\n",
    "  const factorial = (n) => {\n",
    "    if (n < 2) return 1\n",
    "    return n * factorial(n - 1)\n",
    "  }\n",
    "  let sum = 0\n",
    "  for (let n = 0; n < max; n++) {\n",
    "    sum += ((-1) ** n) * (x ** (2 * n + 1)) / factorial(2 * n + 1)\n",
    "  }\n",
    "  return sum\n",
    "}\n",
    "console.log(sin(128 * (Math.PI/180))) // x 是弧度值，要把角度转成弧度\n",
    "// 0.788010753606307\n",
    "```"
   ]
  },
  {
   "cell_type": "markdown",
   "metadata": {},
   "source": [
    "### Python 复数实现"
   ]
  },
  {
   "cell_type": "code",
   "execution_count": 1,
   "metadata": {},
   "outputs": [
    {
     "name": "stdout",
     "output_type": "stream",
     "text": [
      "(0.788010753606722+0j)\n"
     ]
    }
   ],
   "source": [
    "import math\n",
    "e = math.e\n",
    "pi = math.pi\n",
    "\n",
    "def sin (x):\n",
    "  # j 是 Python 里的虚数单位，编程语言里习惯使用 j 而不是 i\n",
    "  return (e **(1j * x) - e **(-1j * x)) / 2j \n",
    "\n",
    "print(sin(128 * pi/180))"
   ]
  },
  {
   "cell_type": "markdown",
   "metadata": {},
   "source": [
    "## 试一试\n",
    "\n",
    "移动鼠标，不同的角（以弧度或度数为单位）对 正弦、余弦和正切的影响。\n"
   ]
  },
  {
   "cell_type": "markdown",
   "metadata": {},
   "source": [
    "<iframe src=\"/triangle/icircle-triangle.html\" style=\"width:442px;height:542px; border:none;\"></iframe>"
   ]
  }
 ],
 "metadata": {
  "kernelspec": {
   "display_name": "Python 3",
   "language": "python",
   "name": "python3"
  },
  "language_info": {
   "codemirror_mode": {
    "name": "ipython",
    "version": 3
   },
   "file_extension": ".py",
   "mimetype": "text/x-python",
   "name": "python",
   "nbconvert_exporter": "python",
   "pygments_lexer": "ipython3",
   "version": "3.7.4"
  }
 },
 "nbformat": 4,
 "nbformat_minor": 4
}
